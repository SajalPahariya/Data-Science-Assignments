{
 "cells": [
  {
   "cell_type": "markdown",
   "id": "4c06fa86",
   "metadata": {},
   "source": [
    "#### Q1. Which two operator overloading methods can you use in your classes to support iteration?\n",
    "**Ans:** **`__iter__`** and **`__next__`** are the operator overloading methods in python that support iteration and are collectively called iterator protocol."
   ]
  },
  {
   "cell_type": "markdown",
   "id": "0b3e5985",
   "metadata": {},
   "source": [
    "#### Q2. In what contexts do the two operator overloading methods manage printing?\n",
    "**Ans:** **`__str__`** and **`__repr__`** are two operator overloading methods that manage printing.\n",
    "- In Short, the difference between both these operators is the goal of **`__repr__`** is to be unambiguous and **`__str__`** is to be readable.\n",
    "- Whenever we are printing any object reference internally **`__str__`** method will be called by default."
   ]
  },
  {
   "cell_type": "markdown",
   "id": "776e9c16",
   "metadata": {},
   "source": [
    "#### Q3. In a class, how do you intercept slice operations?\n",
    "**Ans:** In a class use of `slice()` in `__getitem__` method is used for intercept slice operation. This slice method is provided with start integer number, stop integer number and step integer number. \n",
    "\n",
    "**Example:** `__getitem__(slice(start,stop,step))`"
   ]
  },
  {
   "cell_type": "markdown",
   "id": "1960c808",
   "metadata": {},
   "source": [
    "#### Q4. In a class, how do you capture in-place addition?\n",
    "**Ans:** **`a+b`** is normal addition. Whereas **`a+=b`** is inplace addition operation. In this in-place addition **`a`** itself will store the value of addition. In a class **`__iadd__`** method is used for this in-place operation"
   ]
  },
  {
   "cell_type": "code",
   "execution_count": 3,
   "id": "89e37d51",
   "metadata": {},
   "outputs": [
    {
     "name": "stdout",
     "output_type": "stream",
     "text": [
      "300\n"
     ]
    }
   ],
   "source": [
    "class Book:\n",
    "    def __init__(self,pages):\n",
    "        self.pages = pages\n",
    "    def __iadd__(self,other):\n",
    "        self.pages += other.pages\n",
    "        return self.pages\n",
    "        \n",
    "b1 = Book(100)\n",
    "b2 = Book(200)\n",
    "b1+=b2\n",
    "print(b1)"
   ]
  },
  {
   "cell_type": "markdown",
   "id": "341416c2",
   "metadata": {},
   "source": [
    "#### Q5. When is it appropriate to use operator overloading?\n",
    "**Ans:** Operator overloading is used when we want to use an operator other than its normal operation to have different meaning according to the context required in user defined function."
   ]
  },
  {
   "cell_type": "code",
   "execution_count": 4,
   "id": "14b44902",
   "metadata": {},
   "outputs": [
    {
     "name": "stdout",
     "output_type": "stream",
     "text": [
      "Total Number of Pages -> 300\n"
     ]
    }
   ],
   "source": [
    "class Book:\n",
    "    def __init__(self,pages):\n",
    "        self.pages = pages\n",
    "    def __add__(self,other):\n",
    "        return self.pages+other.pages\n",
    "b1 = Book(100)\n",
    "b2 = Book(200)\n",
    "print(f'Total Number of Pages -> {b1+b2}')"
   ]
  }
 ],
 "metadata": {
  "kernelspec": {
   "display_name": "Python 3",
   "language": "python",
   "name": "python3"
  },
  "language_info": {
   "codemirror_mode": {
    "name": "ipython",
    "version": 3
   },
   "file_extension": ".py",
   "mimetype": "text/x-python",
   "name": "python",
   "nbconvert_exporter": "python",
   "pygments_lexer": "ipython3",
   "version": "3.8.8"
  }
 },
 "nbformat": 4,
 "nbformat_minor": 5
}
